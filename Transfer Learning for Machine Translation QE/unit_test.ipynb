{
 "cells": [
  {
   "cell_type": "code",
   "execution_count": 2,
   "source": [
    "import util\r\n",
    "import importlib\r\n",
    "import numpy as np\r\n",
    "import torch"
   ],
   "outputs": [],
   "metadata": {}
  },
  {
   "cell_type": "markdown",
   "source": [
    "# Read sentences from tsv files"
   ],
   "metadata": {}
  },
  {
   "cell_type": "code",
   "execution_count": 3,
   "source": [
    "importlib.reload(util)\r\n",
    "df = util.get_dataframe(lang_pairs=['et-en', 'ro-en', 'ne-en'], is_dev_sentence=True)\r\n",
    "\r\n",
    "print(df)\r\n"
   ],
   "outputs": [
    {
     "output_type": "stream",
     "name": "stdout",
     "text": [
      "Processing et-en/dev.eten.df.short.tsv ...\n",
      "Processing ro-en/dev.roen.df.short.tsv ...\n",
      "Processing ne-en/dev.neen.df.short.tsv ...\n",
      "      level_0  index                                           original  \\\n",
      "0           0      0  Kaks sõdurit sai vigastada ja toimetati ravile...   \n",
      "1           1      1  Kant ütleb, et kõik käsitööd, tööndused ja kun...   \n",
      "2           2      2  Ülestõus kestis 1956. aasta 23. oktoobrist 10....   \n",
      "3           3      3  Religioon pakub vaimu puhastamiseks teatud vah...   \n",
      "4           4      4  Duns Scotus hakkas Pariisis \"Sententiae\" üle l...   \n",
      "...       ...    ...                                                ...   \n",
      "2995      995    995  नयाँ संविधान जारी भएपछि सरकार र राष्ट्रपतिलाई ...   \n",
      "2996      996    996  कूर्मपूराणको यो श्लोकले पनि परापूर्वकालदेखि नै...   \n",
      "2997      997    997  प्रतियोगितामा २ गोल र २ गोल सहायता प्रदान गरेक...   \n",
      "2998      998    998  स्पेनमा रोमन क्याथोलिक चर्चहरुको कडा विरोधको व...   \n",
      "2999      999    999  एउटा पक्षले बृहत हिमालय पदमार्ग बारेमा विज्ञाप...   \n",
      "\n",
      "                                            translation  \\\n",
      "0     Two soldiers were injured and brought to Tskin...   \n",
      "1     Kant says that all crafts, all works and all t...   \n",
      "2           It ran from 23 October 1956 to 10 November.   \n",
      "3     Religion offers certain means of cleansing the...   \n",
      "4     Duns Scotus started to lecture in Paris on the...   \n",
      "...                                                 ...   \n",
      "2995  After the new constitution was issued, electio...   \n",
      "2996  This shlok of sunrise has also given rise to e...   \n",
      "2997  He was selected to the tournament with 2 goals...   \n",
      "2998  In Spain, the strict opposition of Roman Catho...   \n",
      "2999  A party works journalists from advertisements ...   \n",
      "\n",
      "                           scores       mean  \\\n",
      "0     [95, 100, 100, 100, 85, 80]  93.333333   \n",
      "1       [94, 92, 64, 100, 73, 81]  84.000000   \n",
      "2          [50, 80, 50, 14, 8, 1]  33.833333   \n",
      "3      [92, 70, 100, 96, 100, 85]  90.500000   \n",
      "4      [92, 95, 100, 100, 91, 82]  93.333333   \n",
      "...                           ...        ...   \n",
      "2995     [93, 91, 63, 55, 60, 64]  71.000000   \n",
      "2996     [36, 24, 30, 20, 26, 13]  24.833333   \n",
      "2997     [50, 31, 30, 57, 63, 60]  48.500000   \n",
      "2998     [50, 33, 20, 58, 39, 32]  38.666667   \n",
      "2999    [40, 29, 10, 88, 76, 100]  57.166667   \n",
      "\n",
      "                                               z_scores    z_mean  \\\n",
      "0     [1.3203785039155547, 1.3522411538815724, 1.340...  1.004013   \n",
      "1     [1.2891350149587821, 1.1166397378698099, 0.385...  0.782623   \n",
      "2     [-0.08557849913921849, 0.7632376138521665, 0.0... -1.162278   \n",
      "3     [1.2266480370452366, 0.46873584383746353, 1.34...  0.969578   \n",
      "4     [1.2266480370452366, 1.204990268874221, 1.3403...  1.048562   \n",
      "...                                                 ...       ...   \n",
      "2995  [2.847076169892393, 3.4983073304134713, 1.4570...  1.740205   \n",
      "2996  [-0.33946490804209883, -0.30200498274464405, -... -0.537592   \n",
      "2997  [0.44319430408216237, 0.0950425723614277, -0.1...  0.602030   \n",
      "2998  [0.44319430408216237, 0.20848473096316247, -0....  0.065700   \n",
      "2999  [-0.1158479902923099, -0.01839958624030709, -1...  0.808331   \n",
      "\n",
      "      model_scores  \n",
      "0        -0.366276  \n",
      "1        -0.421491  \n",
      "2        -0.275732  \n",
      "3        -0.409479  \n",
      "4        -0.296917  \n",
      "...            ...  \n",
      "2995     -0.151052  \n",
      "2996     -0.395515  \n",
      "2997     -0.216927  \n",
      "2998     -0.254949  \n",
      "2999     -0.248044  \n",
      "\n",
      "[3000 rows x 9 columns]\n"
     ]
    }
   ],
   "metadata": {}
  },
  {
   "cell_type": "code",
   "execution_count": 4,
   "source": [
    "print(df.loc[900])\r\n",
    "print()\r\n",
    "print(df.loc[1800])\r\n",
    "print()\r\n",
    "print(df.loc[2700])"
   ],
   "outputs": [
    {
     "output_type": "stream",
     "name": "stdout",
     "text": [
      "level_0                                                       900\n",
      "index                                                         900\n",
      "original        Galileo Galilei vaatles oma teleskoobiga Kuud ...\n",
      "translation     Galileo looked at Cuba with its television cod...\n",
      "scores                                       [5, 31, 1, 8, 1, 31]\n",
      "mean                                                    12.833333\n",
      "z_scores        [-1.4915355021939918, -0.6798210592198779, -1....\n",
      "z_mean                                                  -1.492266\n",
      "model_scores                                            -0.406991\n",
      "Name: 900, dtype: object\n",
      "\n",
      "level_0                                                       800\n",
      "index                                                         800\n",
      "original        Unul dintre revoluționari, Louis Blanc, era cu...\n",
      "translation     One of the revolutionaries, Louis Blanc, was k...\n",
      "scores                               [100, 100, 91, 100, 100, 85]\n",
      "mean                                                         96.0\n",
      "z_scores        [1.0398406651912675, 1.0775407753762953, 0.881...\n",
      "z_mean                                                   1.000764\n",
      "model_scores                                            -0.217486\n",
      "Name: 1800, dtype: object\n",
      "\n",
      "level_0                                                       700\n",
      "index                                                         700\n",
      "original        यति कुरा ध्यानमा राखेर साहित्य अध्ययन र सामग्र...\n",
      "translation     To focus solely on religious studies and mater...\n",
      "scores                                   [36, 29, 30, 58, 39, 32]\n",
      "mean                                                    37.333333\n",
      "z_scores        [-0.33946490804209883, -0.01839958624030709, -...\n",
      "z_mean                                                  -0.026453\n",
      "model_scores                                            -0.244445\n",
      "Name: 2700, dtype: object\n"
     ]
    }
   ],
   "metadata": {}
  },
  {
   "cell_type": "code",
   "execution_count": 5,
   "source": [
    "# Max length sentence\r\n",
    "print(df['original'].map(len).max())\r\n",
    "print(df['translation'].map(len).max())\r\n",
    "\r\n",
    "print(df['original'].map(len).argmax())\r\n",
    "print(df['translation'].map(len).argmax())"
   ],
   "outputs": [
    {
     "output_type": "stream",
     "name": "stdout",
     "text": [
      "150\n",
      "628\n",
      "354\n",
      "2379\n"
     ]
    }
   ],
   "metadata": {}
  },
  {
   "cell_type": "code",
   "execution_count": 6,
   "source": [
    "df.loc[2379]['translation']"
   ],
   "outputs": [
    {
     "output_type": "execute_result",
     "data": {
      "text/plain": [
       "'Of the growth of the descendants of the descendants of the descendants of the descendants of the descendants of the descendants of the descendants of the descendants of the descendants of the descendants of the descendants of the descendants of the descendants of the descendants of the descendants of the descendants of the descendants of the descendants of the descendants of the descendants of the descendants of the descendants of the descendants of the descendants of the descendants of the descendants of the descendants of the descendants of the descendants of the descendants of the descendants of the descendants of the'"
      ]
     },
     "metadata": {},
     "execution_count": 6
    }
   ],
   "metadata": {}
  },
  {
   "cell_type": "markdown",
   "source": [
    "# Tokenize sentences"
   ],
   "metadata": {}
  },
  {
   "cell_type": "code",
   "execution_count": 7,
   "source": [
    "from transformers import BertTokenizer\r\n",
    "\r\n",
    "tokenizer = BertTokenizer.from_pretrained('bert-base-multilingual-cased')\r\n"
   ],
   "outputs": [],
   "metadata": {}
  },
  {
   "cell_type": "code",
   "execution_count": 8,
   "source": [
    "target_sentences = df['translation'].values.tolist()\r\n",
    "source_sentences = df['original'].values.tolist()\r\n",
    "\r\n",
    "result = tokenizer(target_sentences, source_sentences, padding='max_length', return_tensors='pt')\r\n",
    "\r\n",
    "input_ids = result['input_ids']\r\n",
    "token_type_ids = result['token_type_ids']\r\n",
    "attention_mask = result['attention_mask']\r\n"
   ],
   "outputs": [],
   "metadata": {}
  },
  {
   "cell_type": "code",
   "execution_count": 9,
   "source": [
    "print(input_ids.shape)\r\n",
    "print(token_type_ids.shape)\r\n",
    "print(attention_mask.shape)"
   ],
   "outputs": [
    {
     "output_type": "stream",
     "name": "stdout",
     "text": [
      "torch.Size([3000, 512])\n",
      "torch.Size([3000, 512])\n",
      "torch.Size([3000, 512])\n"
     ]
    }
   ],
   "metadata": {}
  },
  {
   "cell_type": "code",
   "execution_count": 10,
   "source": [
    "tokenizer.decode(result['input_ids'][0])"
   ],
   "outputs": [
    {
     "output_type": "execute_result",
     "data": {
      "text/plain": [
       "\"[CLS] Two soldiers were injured and brought to Tskinvali's hospital for treatment. [SEP] Kaks sõdurit sai vigastada ja toimetati ravile Tshinvali haiglasse. [SEP] [PAD] [PAD] [PAD] [PAD] [PAD] [PAD] [PAD] [PAD] [PAD] [PAD] [PAD] [PAD] [PAD] [PAD] [PAD] [PAD] [PAD] [PAD] [PAD] [PAD] [PAD] [PAD] [PAD] [PAD] [PAD] [PAD] [PAD] [PAD] [PAD] [PAD] [PAD] [PAD] [PAD] [PAD] [PAD] [PAD] [PAD] [PAD] [PAD] [PAD] [PAD] [PAD] [PAD] [PAD] [PAD] [PAD] [PAD] [PAD] [PAD] [PAD] [PAD] [PAD] [PAD] [PAD] [PAD] [PAD] [PAD] [PAD] [PAD] [PAD] [PAD] [PAD] [PAD] [PAD] [PAD] [PAD] [PAD] [PAD] [PAD] [PAD] [PAD] [PAD] [PAD] [PAD] [PAD] [PAD] [PAD] [PAD] [PAD] [PAD] [PAD] [PAD] [PAD] [PAD] [PAD] [PAD] [PAD] [PAD] [PAD] [PAD] [PAD] [PAD] [PAD] [PAD] [PAD] [PAD] [PAD] [PAD] [PAD] [PAD] [PAD] [PAD] [PAD] [PAD] [PAD] [PAD] [PAD] [PAD] [PAD] [PAD] [PAD] [PAD] [PAD] [PAD] [PAD] [PAD] [PAD] [PAD] [PAD] [PAD] [PAD] [PAD] [PAD] [PAD] [PAD] [PAD] [PAD] [PAD] [PAD] [PAD] [PAD] [PAD] [PAD] [PAD] [PAD] [PAD] [PAD] [PAD] [PAD] [PAD] [PAD] [PAD] [PAD] [PAD] [PAD] [PAD] [PAD] [PAD] [PAD] [PAD] [PAD] [PAD] [PAD] [PAD] [PAD] [PAD] [PAD] [PAD] [PAD] [PAD] [PAD] [PAD] [PAD] [PAD] [PAD] [PAD] [PAD] [PAD] [PAD] [PAD] [PAD] [PAD] [PAD] [PAD] [PAD] [PAD] [PAD] [PAD] [PAD] [PAD] [PAD] [PAD] [PAD] [PAD] [PAD] [PAD] [PAD] [PAD] [PAD] [PAD] [PAD] [PAD] [PAD] [PAD] [PAD] [PAD] [PAD] [PAD] [PAD] [PAD] [PAD] [PAD] [PAD] [PAD] [PAD] [PAD] [PAD] [PAD] [PAD] [PAD] [PAD] [PAD] [PAD] [PAD] [PAD] [PAD] [PAD] [PAD] [PAD] [PAD] [PAD] [PAD] [PAD] [PAD] [PAD] [PAD] [PAD] [PAD] [PAD] [PAD] [PAD] [PAD] [PAD] [PAD] [PAD] [PAD] [PAD] [PAD] [PAD] [PAD] [PAD] [PAD] [PAD] [PAD] [PAD] [PAD] [PAD] [PAD] [PAD] [PAD] [PAD] [PAD] [PAD] [PAD] [PAD] [PAD] [PAD] [PAD] [PAD] [PAD] [PAD] [PAD] [PAD] [PAD] [PAD] [PAD] [PAD] [PAD] [PAD] [PAD] [PAD] [PAD] [PAD] [PAD] [PAD] [PAD] [PAD] [PAD] [PAD] [PAD] [PAD] [PAD] [PAD] [PAD] [PAD] [PAD] [PAD] [PAD] [PAD] [PAD] [PAD] [PAD] [PAD] [PAD] [PAD] [PAD] [PAD] [PAD] [PAD] [PAD] [PAD] [PAD] [PAD] [PAD] [PAD] [PAD] [PAD] [PAD] [PAD] [PAD] [PAD] [PAD] [PAD] [PAD] [PAD] [PAD] [PAD] [PAD] [PAD] [PAD] [PAD] [PAD] [PAD] [PAD] [PAD] [PAD] [PAD] [PAD] [PAD] [PAD] [PAD] [PAD] [PAD] [PAD] [PAD] [PAD] [PAD] [PAD] [PAD] [PAD] [PAD] [PAD] [PAD] [PAD] [PAD] [PAD] [PAD] [PAD] [PAD] [PAD] [PAD] [PAD] [PAD] [PAD] [PAD] [PAD] [PAD] [PAD] [PAD] [PAD] [PAD] [PAD] [PAD] [PAD] [PAD] [PAD] [PAD] [PAD] [PAD] [PAD] [PAD] [PAD] [PAD] [PAD] [PAD] [PAD] [PAD] [PAD] [PAD] [PAD] [PAD] [PAD] [PAD] [PAD] [PAD] [PAD] [PAD] [PAD] [PAD] [PAD] [PAD] [PAD] [PAD] [PAD] [PAD] [PAD] [PAD] [PAD] [PAD] [PAD] [PAD] [PAD] [PAD] [PAD] [PAD] [PAD] [PAD] [PAD] [PAD] [PAD] [PAD] [PAD] [PAD] [PAD] [PAD] [PAD] [PAD] [PAD] [PAD] [PAD] [PAD] [PAD] [PAD] [PAD] [PAD] [PAD] [PAD] [PAD] [PAD] [PAD] [PAD] [PAD] [PAD] [PAD] [PAD] [PAD] [PAD] [PAD] [PAD] [PAD] [PAD] [PAD] [PAD] [PAD] [PAD] [PAD] [PAD] [PAD] [PAD] [PAD] [PAD] [PAD] [PAD] [PAD] [PAD] [PAD] [PAD] [PAD] [PAD] [PAD] [PAD] [PAD] [PAD] [PAD] [PAD] [PAD] [PAD] [PAD] [PAD]\""
      ]
     },
     "metadata": {},
     "execution_count": 10
    }
   ],
   "metadata": {}
  },
  {
   "cell_type": "markdown",
   "source": [
    "# Run BERT model"
   ],
   "metadata": {}
  },
  {
   "cell_type": "code",
   "execution_count": 18,
   "source": [
    "from transformers import BertModel\r\n",
    "\r\n",
    "bert_model = BertModel.from_pretrained('bert-base-multilingual-cased')"
   ],
   "outputs": [
    {
     "output_type": "stream",
     "name": "stderr",
     "text": [
      "Some weights of the model checkpoint at bert-base-multilingual-cased were not used when initializing BertModel: ['cls.predictions.transform.LayerNorm.bias', 'cls.predictions.transform.LayerNorm.weight', 'cls.seq_relationship.weight', 'cls.predictions.decoder.weight', 'cls.seq_relationship.bias', 'cls.predictions.bias', 'cls.predictions.transform.dense.weight', 'cls.predictions.transform.dense.bias']\n",
      "- This IS expected if you are initializing BertModel from the checkpoint of a model trained on another task or with another architecture (e.g. initializing a BertForSequenceClassification model from a BertForPreTraining model).\n",
      "- This IS NOT expected if you are initializing BertModel from the checkpoint of a model that you expect to be exactly identical (initializing a BertForSequenceClassification model from a BertForSequenceClassification model).\n"
     ]
    }
   ],
   "metadata": {}
  },
  {
   "cell_type": "code",
   "execution_count": 19,
   "source": [
    "result = bert_model(input_ids[0:10, :], attention_mask[0:10, :], token_type_ids[0:10, :])\r\n",
    "\r\n",
    "print(result['last_hidden_state'].shape)\r\n",
    "print(result['pooler_output'].shape)\r\n",
    "print()\r\n",
    "print(result['last_hidden_state'])"
   ],
   "outputs": [
    {
     "output_type": "stream",
     "name": "stdout",
     "text": [
      "torch.Size([10, 512, 768])\n",
      "torch.Size([10, 768])\n",
      "\n",
      "tensor([[[-1.3462e-01,  2.0204e-01, -5.2373e-02,  ...,  1.8463e-01,\n",
      "           5.1738e-02, -6.1155e-02],\n",
      "         [-3.9784e-01, -4.4938e-01,  6.4302e-01,  ...,  5.1545e-01,\n",
      "           1.9946e-01, -3.9049e-01],\n",
      "         [-5.4147e-01,  8.5260e-02,  5.8891e-01,  ...,  2.7444e-01,\n",
      "          -2.0853e-01, -2.9998e-01],\n",
      "         ...,\n",
      "         [-1.0484e-01, -9.2726e-02,  2.7370e-01,  ...,  2.1666e-01,\n",
      "           3.6425e-01,  2.0545e-01],\n",
      "         [-1.4444e-01, -1.2643e-01,  2.7037e-01,  ...,  2.0216e-01,\n",
      "           3.8089e-01,  1.5077e-01],\n",
      "         [-2.3956e-01, -4.7839e-02,  3.8554e-01,  ..., -1.3457e-01,\n",
      "           4.1152e-01,  1.3971e-02]],\n",
      "\n",
      "        [[-1.9649e-02,  1.5470e-01,  1.4945e-01,  ...,  8.7340e-02,\n",
      "           3.1913e-03, -2.3092e-01],\n",
      "         [-2.9002e-01,  2.9691e-01,  3.4906e-01,  ...,  4.3705e-01,\n",
      "          -1.7082e-01, -5.3481e-01],\n",
      "         [-3.2392e-01,  2.6195e-01,  3.5419e-01,  ...,  4.3900e-01,\n",
      "           4.9521e-01, -5.3317e-01],\n",
      "         ...,\n",
      "         [-1.4482e-01,  2.2591e-02,  6.5254e-01,  ...,  2.0971e-01,\n",
      "           2.8725e-01, -2.0992e-01],\n",
      "         [-1.4477e-01,  5.7358e-02,  6.4659e-01,  ...,  1.3082e-01,\n",
      "           3.4399e-01, -1.6759e-01],\n",
      "         [-1.9335e-01, -2.0557e-03,  6.1504e-01,  ..., -1.0250e-03,\n",
      "           3.4287e-01, -3.5283e-01]],\n",
      "\n",
      "        [[ 5.8823e-02,  1.6345e-01,  2.4497e-01,  ...,  1.5901e-01,\n",
      "           1.9995e-02, -2.6556e-02],\n",
      "         [-3.2591e-01,  1.3177e-01,  9.7582e-01,  ...,  5.0016e-01,\n",
      "           1.5283e-01, -2.4585e-01],\n",
      "         [-5.0977e-01,  4.8842e-02,  4.8366e-01,  ...,  1.3294e-01,\n",
      "           7.0439e-02,  4.2677e-02],\n",
      "         ...,\n",
      "         [-2.4870e-01, -5.2372e-02,  5.4355e-01,  ...,  5.4616e-02,\n",
      "           3.1250e-01,  3.7762e-01],\n",
      "         [-2.2133e-01,  1.1834e-02,  3.9502e-01,  ...,  3.2871e-02,\n",
      "           3.2703e-01,  4.1945e-01],\n",
      "         [-2.3233e-01,  3.7165e-02,  4.5262e-01,  ..., -6.6056e-02,\n",
      "           2.8202e-01,  3.3854e-01]],\n",
      "\n",
      "        ...,\n",
      "\n",
      "        [[-1.7937e-01,  2.7279e-01,  6.5488e-02,  ..., -2.5318e-02,\n",
      "           9.9014e-03, -1.2060e-01],\n",
      "         [ 6.2621e-02, -1.2410e-02,  7.6111e-02,  ...,  6.9349e-01,\n",
      "           8.4162e-02, -3.3086e-01],\n",
      "         [-4.7604e-01, -1.7038e-01,  1.2756e-01,  ...,  2.4056e-01,\n",
      "          -1.9744e-01, -7.0626e-01],\n",
      "         ...,\n",
      "         [-1.8425e-01,  1.6129e-01,  3.3937e-01,  ..., -1.5202e-01,\n",
      "           2.2750e-02,  6.2555e-02],\n",
      "         [-1.8311e-01,  1.5636e-01,  3.2657e-01,  ..., -1.8549e-01,\n",
      "          -3.9737e-02,  8.3591e-02],\n",
      "         [-2.5153e-01,  6.8547e-02,  2.9650e-01,  ..., -4.1137e-01,\n",
      "           2.5318e-01, -1.1866e-01]],\n",
      "\n",
      "        [[-1.9915e-01,  1.7606e-01,  5.7160e-03,  ...,  4.5969e-02,\n",
      "           5.0282e-02,  9.0826e-03],\n",
      "         [ 1.6780e-02, -7.9949e-02,  1.2365e-01,  ...,  7.3097e-01,\n",
      "           3.3438e-02, -2.6816e-01],\n",
      "         [ 1.8863e-01, -9.8636e-02,  1.1929e-01,  ...,  7.6065e-01,\n",
      "           3.0872e-01, -1.1141e-01],\n",
      "         ...,\n",
      "         [-3.2221e-01, -4.9819e-02,  4.5229e-01,  ..., -2.2021e-01,\n",
      "          -2.6999e-02,  2.4804e-01],\n",
      "         [-2.5859e-01, -5.7672e-03,  3.8274e-01,  ..., -1.7979e-01,\n",
      "          -4.9111e-02,  1.9478e-01],\n",
      "         [-2.6256e-01, -1.2333e-01,  3.6389e-01,  ..., -3.4722e-01,\n",
      "           8.6394e-02, -1.6806e-04]],\n",
      "\n",
      "        [[ 4.7638e-02,  5.8528e-02,  1.4693e-01,  ...,  4.6095e-02,\n",
      "          -5.4998e-03, -1.9055e-01],\n",
      "         [ 7.6272e-02, -1.5865e-01,  4.4156e-01,  ...,  5.0041e-01,\n",
      "           7.7652e-02, -3.1865e-01],\n",
      "         [ 1.4123e-01, -2.8582e-01,  1.5854e-02,  ...,  6.7674e-01,\n",
      "          -4.8875e-01,  6.9546e-02],\n",
      "         ...,\n",
      "         [-2.3805e-01, -8.2638e-02,  7.5977e-01,  ...,  1.1364e-02,\n",
      "           3.4384e-01,  3.1954e-02],\n",
      "         [-1.9113e-01, -1.1782e-01,  6.7005e-01,  ..., -4.4936e-02,\n",
      "           3.0673e-01,  4.6999e-02],\n",
      "         [-2.7668e-01, -1.5853e-01,  8.5698e-01,  ..., -2.9852e-01,\n",
      "           4.2711e-01,  1.7230e-02]]], grad_fn=<NativeLayerNormBackward>)\n"
     ]
    }
   ],
   "metadata": {}
  },
  {
   "cell_type": "code",
   "execution_count": null,
   "source": [],
   "outputs": [],
   "metadata": {}
  }
 ],
 "metadata": {
  "orig_nbformat": 4,
  "language_info": {
   "name": "python",
   "version": "3.9.6",
   "mimetype": "text/x-python",
   "codemirror_mode": {
    "name": "ipython",
    "version": 3
   },
   "pygments_lexer": "ipython3",
   "nbconvert_exporter": "python",
   "file_extension": ".py"
  },
  "kernelspec": {
   "name": "python3",
   "display_name": "Python 3.9.6 64-bit ('cs7643-project': conda)"
  },
  "interpreter": {
   "hash": "6189d21de82a52352fc034ff508c28670ef8d5f7ceef57cb015fdc545b4a325d"
  }
 },
 "nbformat": 4,
 "nbformat_minor": 2
}